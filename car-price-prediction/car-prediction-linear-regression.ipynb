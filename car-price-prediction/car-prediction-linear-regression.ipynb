{
 "cells": [
  {
   "cell_type": "code",
   "execution_count": 27,
   "id": "6e00cd43",
   "metadata": {},
   "outputs": [],
   "source": [
    "# dataset obtained from the kaggle dataset\n",
    "import zipfile \n",
    "with zipfile.ZipFile('cardataset.zip') as myzip:\n",
    "    myzip.extractall()"
   ]
  },
  {
   "cell_type": "code",
   "execution_count": 28,
   "id": "860c3e65",
   "metadata": {},
   "outputs": [],
   "source": [
    "import numpy as np\n",
    "import pandas as pd\n",
    "import matplotlib.pyplot as plt\n",
    "import seaborn as sns\n",
    "%matplotlib inline"
   ]
  },
  {
   "cell_type": "code",
   "execution_count": 29,
   "id": "faa7d932",
   "metadata": {},
   "outputs": [],
   "source": [
    "df = pd.read_csv('data.csv')"
   ]
  },
  {
   "cell_type": "code",
   "execution_count": 30,
   "id": "d0823ff2",
   "metadata": {},
   "outputs": [],
   "source": [
    "# formatting the dataframe columns names for consistency\n",
    "df.columns = df.columns.str.lower().str.replace(' ', '_')"
   ]
  },
  {
   "cell_type": "code",
   "execution_count": 31,
   "id": "2af9934a",
   "metadata": {},
   "outputs": [],
   "source": [
    "# formatting the dataframe columns values (of type string) for consistency\n",
    "string_columns = [col for col in df.columns if df[col].dtype == 'object']\n",
    "for col in string_columns:\n",
    "    df[col] = df[col].str.lower().str.replace(' ', '_')"
   ]
  },
  {
   "cell_type": "code",
   "execution_count": 32,
   "id": "39445683",
   "metadata": {},
   "outputs": [
    {
     "data": {
      "text/plain": [
       "0"
      ]
     },
     "execution_count": 32,
     "metadata": {},
     "output_type": "execute_result"
    }
   ],
   "source": [
    "# since we are insterested in the MSRP columns we check for null values\n",
    "df.msrp.isnull().sum()"
   ]
  },
  {
   "cell_type": "code",
   "execution_count": 33,
   "id": "c2101e66",
   "metadata": {},
   "outputs": [
    {
     "data": {
      "text/plain": [
       "[]"
      ]
     },
     "execution_count": 33,
     "metadata": {},
     "output_type": "execute_result"
    },
    {
     "data": {
      "image/png": "[encoded data removed]",
      "text/plain": [
       "<Figure size 432x288 with 1 Axes>"
      ]
     },
     "metadata": {
      "needs_background": "light"
     },
     "output_type": "display_data"
    }
   ],
   "source": [
    "# We are good to go since there aren't any null values\n",
    "# we check the distribution of the dataset visually\n",
    "sns.histplot(df.msrp, bins  = 40)\n",
    "plt.plot()\n"
   ]
  },
  {
   "cell_type": "code",
   "execution_count": 34,
   "id": "c25aad97",
   "metadata": {},
   "outputs": [
    {
     "data": {
      "text/plain": [
       "<AxesSubplot:xlabel='msrp', ylabel='Count'>"
      ]
     },
     "execution_count": 34,
     "metadata": {},
     "output_type": "execute_result"
    },
    {
     "data": {
      "image/png": "[encoded data removed]",
      "text/plain": [
       "<Figure size 432x288 with 1 Axes>"
      ]
     },
     "metadata": {
      "needs_background": "light"
     },
     "output_type": "display_data"
    }
   ],
   "source": [
    "# because the data is highly skewed we used the logarithm of the dataset \n",
    "# approximate to a normal distribution\n",
    "sns.histplot(np.log1p(df.msrp))"
   ]
  },
  {
   "cell_type": "code",
   "execution_count": 35,
   "id": "2b299712",
   "metadata": {},
   "outputs": [],
   "source": [
    "# Split the data into 3 parts: Train dataset (60%), Test dataset (20%) and\n",
    "# validation dataset(20%)\n",
    "\n",
    "# total number of elements\n",
    "n = len(df)\n",
    "n_train = int(0.6 * n)\n",
    "n_val  = int(0.2 * n)\n",
    "n_test   = n - (n_train + n_val)"
   ]
  },
  {
   "cell_type": "code",
   "execution_count": 36,
   "id": "2d83ca32",
   "metadata": {},
   "outputs": [],
   "source": [
    "# now shuffle the data and split the data set after\n",
    "np.random.seed(2)\n",
    "idx = np.arange(n)\n",
    "np.random.shuffle(idx)\n",
    "\n",
    "df_shuffled = df.iloc[idx]\n",
    "\n",
    "df_train = df_shuffled.iloc[:n_train].copy()\n",
    "df_val   = df_shuffled.iloc[n_train : n_train + n_val].copy()\n",
    "df_test  = df_shuffled.iloc[n_train + n_val : ].copy()\n",
    "\n",
    "# extract the required data and apply np.log1p() \n",
    "ytrain = np.log1p(df_train.msrp)\n",
    "yval   = np.log1p(df_val.msrp)\n",
    "ytest  = np.log1p(df_test.msrp)\n",
    "\n",
    "# remove the 'msrp' data from the shuffled dataset so it can't be mistakenly \n",
    "# used\n",
    "\n",
    "df_train.drop('msrp', axis = 1, inplace = True)\n",
    "df_val.drop('msrp', axis = 1, inplace = True)\n",
    "df_test.drop('msrp', axis = 1, inplace = True)\n"
   ]
  },
  {
   "cell_type": "code",
   "execution_count": 37,
   "id": "6a243ae9",
   "metadata": {},
   "outputs": [
    {
     "data": {
      "text/plain": [
       "make                                 rolls-royce\n",
       "model                     phantom_drophead_coupe\n",
       "year                                        2015\n",
       "engine_fuel_type     premium_unleaded_(required)\n",
       "engine_hp                                  453.0\n",
       "engine_cylinders                            12.0\n",
       "transmission_type                      automatic\n",
       "driven_wheels                   rear_wheel_drive\n",
       "number_of_doors                              2.0\n",
       "market_category        exotic,luxury,performance\n",
       "vehicle_size                               large\n",
       "vehicle_style                        convertible\n",
       "highway_mpg                                   19\n",
       "city_mpg                                      11\n",
       "popularity                                    86\n",
       "Name: 7557, dtype: object"
      ]
     },
     "execution_count": 37,
     "metadata": {},
     "output_type": "execute_result"
    }
   ],
   "source": [
    "df_train.iloc[10]"
   ]
  },
  {
   "cell_type": "code",
   "execution_count": 38,
   "id": "b631be4c",
   "metadata": {},
   "outputs": [
    {
     "data": {
      "text/plain": [
       "engine_hp     453.0\n",
       "city_mpg         11\n",
       "popularity       86\n",
       "Name: 7557, dtype: object"
      ]
     },
     "execution_count": 38,
     "metadata": {},
     "output_type": "execute_result"
    }
   ],
   "source": [
    "# microtesting features before we build our model\n",
    "base_features = ['engine_hp', 'city_mpg', 'popularity']\n",
    "df_train.iloc[10][base_features]"
   ]
  },
  {
   "cell_type": "code",
   "execution_count": 86,
   "id": "2c0b50fb",
   "metadata": {},
   "outputs": [],
   "source": [
    "x = df_train.iloc[10][base_features].values"
   ]
  },
  {
   "cell_type": "code",
   "execution_count": 87,
   "id": "b3df998d",
   "metadata": {},
   "outputs": [],
   "source": [
    "w = [7.17, 0.01, 0.04, 0.002]"
   ]
  },
  {
   "cell_type": "code",
   "execution_count": 88,
   "id": "b2234bb0",
   "metadata": {},
   "outputs": [
    {
     "data": {
      "text/plain": [
       "array([453.0, 11, 86], dtype=object)"
      ]
     },
     "execution_count": 88,
     "metadata": {},
     "output_type": "execute_result"
    }
   ],
   "source": [
    "x"
   ]
  },
  {
   "cell_type": "code",
   "execution_count": 89,
   "id": "e9c57500",
   "metadata": {},
   "outputs": [],
   "source": [
    "xi = np.concatenate((b,x))"
   ]
  },
  {
   "cell_type": "code",
   "execution_count": 97,
   "id": "e03e8a53",
   "metadata": {},
   "outputs": [
    {
     "name": "stdout",
     "output_type": "stream",
     "text": [
      "12.312\n"
     ]
    }
   ],
   "source": [
    "sum = 0\n",
    "for i in range(len(xi)):\n",
    "    sum += xi[i]*w[i]\n",
    "print(sum)"
   ]
  },
  {
   "cell_type": "code",
   "execution_count": 95,
   "id": "22dff844",
   "metadata": {},
   "outputs": [
    {
     "data": {
      "text/plain": [
       "12.312"
      ]
     },
     "execution_count": 95,
     "metadata": {},
     "output_type": "execute_result"
    }
   ],
   "source": [
    "np.dot(xi, w)"
   ]
  },
  {
   "cell_type": "code",
   "execution_count": 99,
   "id": "3cb0866d",
   "metadata": {},
   "outputs": [
    {
     "data": {
      "text/plain": [
       "603197.5294933666"
      ]
     },
     "execution_count": 99,
     "metadata": {},
     "output_type": "execute_result"
    }
   ],
   "source": [
    "np.exp(12.31 + 1)"
   ]
  },
  {
   "cell_type": "code",
   "execution_count": 103,
   "id": "b992001b",
   "metadata": {},
   "outputs": [],
   "source": [
    "X = df_train.iloc[[1,2,10]][base_features].values"
   ]
  },
  {
   "cell_type": "code",
   "execution_count": 105,
   "id": "db8ac875",
   "metadata": {},
   "outputs": [
    {
     "data": {
      "text/plain": [
       "array([[ 132.,   25., 2031.],\n",
       "       [ 148.,   28.,  640.],\n",
       "       [ 453.,   11.,   86.]])"
      ]
     },
     "execution_count": 105,
     "metadata": {},
     "output_type": "execute_result"
    }
   ],
   "source": [
    "X"
   ]
  },
  {
   "cell_type": "code",
   "execution_count": 112,
   "id": "83f11b7a",
   "metadata": {},
   "outputs": [],
   "source": [
    "X1 = np.column_stack([np.ones(3),X])"
   ]
  },
  {
   "cell_type": "code",
   "execution_count": 141,
   "id": "a7e24774",
   "metadata": {},
   "outputs": [],
   "source": [
    "X2 = np.concatenate(((np.ones(3).reshape(3,1)),X), axis = 1 )"
   ]
  },
  {
   "cell_type": "code",
   "execution_count": 147,
   "id": "48bb8696",
   "metadata": {},
   "outputs": [],
   "source": [
    "w = np.array(w)"
   ]
  },
  {
   "cell_type": "code",
   "execution_count": 152,
   "id": "6747c3e1",
   "metadata": {},
   "outputs": [],
   "source": [
    "predictions = []\n",
    "for i in range(X1.shape[0]):\n",
    "    pred = np.dot(w,X1[i])\n",
    "    predictions.append(pred)"
   ]
  },
  {
   "cell_type": "code",
   "execution_count": 153,
   "id": "6b4e2d05",
   "metadata": {},
   "outputs": [
    {
     "data": {
      "text/plain": [
       "[13.552, 11.049999999999999, 12.312000000000001]"
      ]
     },
     "execution_count": 153,
     "metadata": {},
     "output_type": "execute_result"
    }
   ],
   "source": [
    "predictions"
   ]
  },
  {
   "cell_type": "code",
   "execution_count": 158,
   "id": "86840229",
   "metadata": {},
   "outputs": [
    {
     "data": {
      "text/plain": [
       "(4, 3)"
      ]
     },
     "execution_count": 158,
     "metadata": {},
     "output_type": "execute_result"
    }
   ],
   "source": [
    "X1.T.shape"
   ]
  },
  {
   "cell_type": "code",
   "execution_count": 163,
   "id": "ee6a9aa0",
   "metadata": {},
   "outputs": [],
   "source": [
    "w = np.reshape(w, (1,4))"
   ]
  },
  {
   "cell_type": "code",
   "execution_count": 167,
   "id": "b4cfa159",
   "metadata": {},
   "outputs": [
    {
     "data": {
      "text/plain": [
       "array([[13.552, 11.05 , 12.312]])"
      ]
     },
     "execution_count": 167,
     "metadata": {},
     "output_type": "execute_result"
    }
   ],
   "source": [
    "np.dot(w, X1.T)"
   ]
  },
  {
   "cell_type": "code",
   "execution_count": 172,
   "id": "d681e077",
   "metadata": {},
   "outputs": [
    {
     "data": {
      "text/plain": [
       "array([[13.552, 11.05 , 12.312]])"
      ]
     },
     "execution_count": 172,
     "metadata": {},
     "output_type": "execute_result"
    }
   ],
   "source": [
    "np.dot(w, X2.T)"
   ]
  },
  {
   "cell_type": "code",
   "execution_count": 176,
   "id": "5ab7ed94",
   "metadata": {},
   "outputs": [
    {
     "data": {
      "text/plain": [
       "array([[13.552, 11.05 , 12.312]])"
      ]
     },
     "execution_count": 176,
     "metadata": {},
     "output_type": "execute_result"
    }
   ],
   "source": []
  },
  {
   "cell_type": "code",
   "execution_count": null,
   "id": "0b961578",
   "metadata": {},
   "outputs": [],
   "source": []
  }
 ],
 "metadata": {
  "kernelspec": {
   "display_name": "Python 3 (ipykernel)",
   "language": "python",
   "name": "python3"
  },
  "language_info": {
   "codemirror_mode": {
    "name": "ipython",
    "version": 3
   },
   "file_extension": ".py",
   "mimetype": "text/x-python",
   "name": "python",
   "nbconvert_exporter": "python",
   "pygments_lexer": "ipython3",
   "version": "3.7.11"
  }
 },
 "nbformat": 4,
 "nbformat_minor": 5
}
